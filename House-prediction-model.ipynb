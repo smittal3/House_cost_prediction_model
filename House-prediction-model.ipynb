{
 "cells": [
  {
   "cell_type": "code",
   "execution_count": 151,
   "id": "b7316612",
   "metadata": {},
   "outputs": [],
   "source": [
    "import pandas as pd"
   ]
  },
  {
   "cell_type": "code",
   "execution_count": 152,
   "id": "6cdc25ac",
   "metadata": {},
   "outputs": [],
   "source": [
    "df = pd.read_csv('housepricedata.csv')"
   ]
  },
  {
   "cell_type": "code",
   "execution_count": 153,
   "id": "8b20b8ac",
   "metadata": {},
   "outputs": [
    {
     "data": {
      "text/html": [
       "<div>\n",
       "<style scoped>\n",
       "    .dataframe tbody tr th:only-of-type {\n",
       "        vertical-align: middle;\n",
       "    }\n",
       "\n",
       "    .dataframe tbody tr th {\n",
       "        vertical-align: top;\n",
       "    }\n",
       "\n",
       "    .dataframe thead th {\n",
       "        text-align: right;\n",
       "    }\n",
       "</style>\n",
       "<table border=\"1\" class=\"dataframe\">\n",
       "  <thead>\n",
       "    <tr style=\"text-align: right;\">\n",
       "      <th></th>\n",
       "      <th>LotArea</th>\n",
       "      <th>OverallQual</th>\n",
       "      <th>OverallCond</th>\n",
       "      <th>TotalBsmtSF</th>\n",
       "      <th>FullBath</th>\n",
       "      <th>HalfBath</th>\n",
       "      <th>BedroomAbvGr</th>\n",
       "      <th>TotRmsAbvGrd</th>\n",
       "      <th>Fireplaces</th>\n",
       "      <th>GarageArea</th>\n",
       "      <th>AboveMedianPrice</th>\n",
       "    </tr>\n",
       "  </thead>\n",
       "  <tbody>\n",
       "    <tr>\n",
       "      <th>0</th>\n",
       "      <td>8450</td>\n",
       "      <td>7</td>\n",
       "      <td>5</td>\n",
       "      <td>856</td>\n",
       "      <td>2</td>\n",
       "      <td>1</td>\n",
       "      <td>3</td>\n",
       "      <td>8</td>\n",
       "      <td>0</td>\n",
       "      <td>548</td>\n",
       "      <td>1</td>\n",
       "    </tr>\n",
       "    <tr>\n",
       "      <th>1</th>\n",
       "      <td>9600</td>\n",
       "      <td>6</td>\n",
       "      <td>8</td>\n",
       "      <td>1262</td>\n",
       "      <td>2</td>\n",
       "      <td>0</td>\n",
       "      <td>3</td>\n",
       "      <td>6</td>\n",
       "      <td>1</td>\n",
       "      <td>460</td>\n",
       "      <td>1</td>\n",
       "    </tr>\n",
       "    <tr>\n",
       "      <th>2</th>\n",
       "      <td>11250</td>\n",
       "      <td>7</td>\n",
       "      <td>5</td>\n",
       "      <td>920</td>\n",
       "      <td>2</td>\n",
       "      <td>1</td>\n",
       "      <td>3</td>\n",
       "      <td>6</td>\n",
       "      <td>1</td>\n",
       "      <td>608</td>\n",
       "      <td>1</td>\n",
       "    </tr>\n",
       "    <tr>\n",
       "      <th>3</th>\n",
       "      <td>9550</td>\n",
       "      <td>7</td>\n",
       "      <td>5</td>\n",
       "      <td>756</td>\n",
       "      <td>1</td>\n",
       "      <td>0</td>\n",
       "      <td>3</td>\n",
       "      <td>7</td>\n",
       "      <td>1</td>\n",
       "      <td>642</td>\n",
       "      <td>0</td>\n",
       "    </tr>\n",
       "    <tr>\n",
       "      <th>4</th>\n",
       "      <td>14260</td>\n",
       "      <td>8</td>\n",
       "      <td>5</td>\n",
       "      <td>1145</td>\n",
       "      <td>2</td>\n",
       "      <td>1</td>\n",
       "      <td>4</td>\n",
       "      <td>9</td>\n",
       "      <td>1</td>\n",
       "      <td>836</td>\n",
       "      <td>1</td>\n",
       "    </tr>\n",
       "    <tr>\n",
       "      <th>...</th>\n",
       "      <td>...</td>\n",
       "      <td>...</td>\n",
       "      <td>...</td>\n",
       "      <td>...</td>\n",
       "      <td>...</td>\n",
       "      <td>...</td>\n",
       "      <td>...</td>\n",
       "      <td>...</td>\n",
       "      <td>...</td>\n",
       "      <td>...</td>\n",
       "      <td>...</td>\n",
       "    </tr>\n",
       "    <tr>\n",
       "      <th>1455</th>\n",
       "      <td>7917</td>\n",
       "      <td>6</td>\n",
       "      <td>5</td>\n",
       "      <td>953</td>\n",
       "      <td>2</td>\n",
       "      <td>1</td>\n",
       "      <td>3</td>\n",
       "      <td>7</td>\n",
       "      <td>1</td>\n",
       "      <td>460</td>\n",
       "      <td>1</td>\n",
       "    </tr>\n",
       "    <tr>\n",
       "      <th>1456</th>\n",
       "      <td>13175</td>\n",
       "      <td>6</td>\n",
       "      <td>6</td>\n",
       "      <td>1542</td>\n",
       "      <td>2</td>\n",
       "      <td>0</td>\n",
       "      <td>3</td>\n",
       "      <td>7</td>\n",
       "      <td>2</td>\n",
       "      <td>500</td>\n",
       "      <td>1</td>\n",
       "    </tr>\n",
       "    <tr>\n",
       "      <th>1457</th>\n",
       "      <td>9042</td>\n",
       "      <td>7</td>\n",
       "      <td>9</td>\n",
       "      <td>1152</td>\n",
       "      <td>2</td>\n",
       "      <td>0</td>\n",
       "      <td>4</td>\n",
       "      <td>9</td>\n",
       "      <td>2</td>\n",
       "      <td>252</td>\n",
       "      <td>1</td>\n",
       "    </tr>\n",
       "    <tr>\n",
       "      <th>1458</th>\n",
       "      <td>9717</td>\n",
       "      <td>5</td>\n",
       "      <td>6</td>\n",
       "      <td>1078</td>\n",
       "      <td>1</td>\n",
       "      <td>0</td>\n",
       "      <td>2</td>\n",
       "      <td>5</td>\n",
       "      <td>0</td>\n",
       "      <td>240</td>\n",
       "      <td>0</td>\n",
       "    </tr>\n",
       "    <tr>\n",
       "      <th>1459</th>\n",
       "      <td>9937</td>\n",
       "      <td>5</td>\n",
       "      <td>6</td>\n",
       "      <td>1256</td>\n",
       "      <td>1</td>\n",
       "      <td>1</td>\n",
       "      <td>3</td>\n",
       "      <td>6</td>\n",
       "      <td>0</td>\n",
       "      <td>276</td>\n",
       "      <td>0</td>\n",
       "    </tr>\n",
       "  </tbody>\n",
       "</table>\n",
       "<p>1460 rows × 11 columns</p>\n",
       "</div>"
      ],
      "text/plain": [
       "      LotArea  OverallQual  OverallCond  TotalBsmtSF  FullBath  HalfBath  \\\n",
       "0        8450            7            5          856         2         1   \n",
       "1        9600            6            8         1262         2         0   \n",
       "2       11250            7            5          920         2         1   \n",
       "3        9550            7            5          756         1         0   \n",
       "4       14260            8            5         1145         2         1   \n",
       "...       ...          ...          ...          ...       ...       ...   \n",
       "1455     7917            6            5          953         2         1   \n",
       "1456    13175            6            6         1542         2         0   \n",
       "1457     9042            7            9         1152         2         0   \n",
       "1458     9717            5            6         1078         1         0   \n",
       "1459     9937            5            6         1256         1         1   \n",
       "\n",
       "      BedroomAbvGr  TotRmsAbvGrd  Fireplaces  GarageArea  AboveMedianPrice  \n",
       "0                3             8           0         548                 1  \n",
       "1                3             6           1         460                 1  \n",
       "2                3             6           1         608                 1  \n",
       "3                3             7           1         642                 0  \n",
       "4                4             9           1         836                 1  \n",
       "...            ...           ...         ...         ...               ...  \n",
       "1455             3             7           1         460                 1  \n",
       "1456             3             7           2         500                 1  \n",
       "1457             4             9           2         252                 1  \n",
       "1458             2             5           0         240                 0  \n",
       "1459             3             6           0         276                 0  \n",
       "\n",
       "[1460 rows x 11 columns]"
      ]
     },
     "execution_count": 153,
     "metadata": {},
     "output_type": "execute_result"
    }
   ],
   "source": [
    "df"
   ]
  },
  {
   "cell_type": "code",
   "execution_count": 154,
   "id": "a9172ca7",
   "metadata": {},
   "outputs": [],
   "source": [
    "dataset = df.values"
   ]
  },
  {
   "cell_type": "code",
   "execution_count": 155,
   "id": "e68f4f8c",
   "metadata": {},
   "outputs": [
    {
     "data": {
      "text/plain": [
       "array([[ 8450,     7,     5, ...,     0,   548,     1],\n",
       "       [ 9600,     6,     8, ...,     1,   460,     1],\n",
       "       [11250,     7,     5, ...,     1,   608,     1],\n",
       "       ...,\n",
       "       [ 9042,     7,     9, ...,     2,   252,     1],\n",
       "       [ 9717,     5,     6, ...,     0,   240,     0],\n",
       "       [ 9937,     5,     6, ...,     0,   276,     0]])"
      ]
     },
     "execution_count": 155,
     "metadata": {},
     "output_type": "execute_result"
    }
   ],
   "source": [
    "dataset"
   ]
  },
  {
   "cell_type": "code",
   "execution_count": 156,
   "id": "cfa5aab1",
   "metadata": {},
   "outputs": [],
   "source": [
    "X = dataset[:,0:10]"
   ]
  },
  {
   "cell_type": "code",
   "execution_count": 157,
   "id": "38d01fba",
   "metadata": {},
   "outputs": [],
   "source": [
    "Y = dataset[:,10]"
   ]
  },
  {
   "cell_type": "code",
   "execution_count": 158,
   "id": "137b7f08",
   "metadata": {},
   "outputs": [],
   "source": [
    "from sklearn import preprocessing\n",
    "min_max_scaler = preprocessing.MinMaxScaler()\n",
    "X_scaled = min_max_scaler.fit_transform(X)"
   ]
  },
  {
   "cell_type": "code",
   "execution_count": 159,
   "id": "520e14d0",
   "metadata": {
    "scrolled": true
   },
   "outputs": [
    {
     "data": {
      "text/plain": [
       "array([[0.0334198 , 0.66666667, 0.5       , ..., 0.5       , 0.        ,\n",
       "        0.3864598 ],\n",
       "       [0.03879502, 0.55555556, 0.875     , ..., 0.33333333, 0.33333333,\n",
       "        0.32440056],\n",
       "       [0.04650728, 0.66666667, 0.5       , ..., 0.33333333, 0.33333333,\n",
       "        0.42877292],\n",
       "       ...,\n",
       "       [0.03618687, 0.66666667, 1.        , ..., 0.58333333, 0.66666667,\n",
       "        0.17771509],\n",
       "       [0.03934189, 0.44444444, 0.625     , ..., 0.25      , 0.        ,\n",
       "        0.16925247],\n",
       "       [0.04037019, 0.44444444, 0.625     , ..., 0.33333333, 0.        ,\n",
       "        0.19464034]])"
      ]
     },
     "execution_count": 159,
     "metadata": {},
     "output_type": "execute_result"
    }
   ],
   "source": [
    "X_scaled"
   ]
  },
  {
   "cell_type": "code",
   "execution_count": 160,
   "id": "9b4cf7d8",
   "metadata": {},
   "outputs": [],
   "source": [
    "from sklearn.model_selection import train_test_split\n",
    "X_train, X_val_and_test, Y_train, Y_val_and_test = train_test_split(X_scaled, Y, test_size = 0.3)\n",
    "X_val, X_test, Y_val, Y_test = train_test_split(X_val_and_test, Y_val_and_test, test_size = 0.5)"
   ]
  },
  {
   "cell_type": "code",
   "execution_count": 161,
   "id": "9044ea31",
   "metadata": {},
   "outputs": [],
   "source": [
    "from keras.models import Sequential\n",
    "from keras.layers import Dense\n",
    "model = Sequential([\n",
    "    Dense(32, activation='relu', input_shape=(10,)),\n",
    "    Dense(32, activation='relu'),\n",
    "    Dense(32, activation='relu'),\n",
    "    Dense(1, activation='sigmoid')\n",
    "])"
   ]
  },
  {
   "cell_type": "code",
   "execution_count": 162,
   "id": "d311134e",
   "metadata": {},
   "outputs": [],
   "source": [
    "model.compile(optimizer='sgd',\n",
    "             loss='binary_crossentropy',\n",
    "             metrics=['accuracy'])"
   ]
  },
  {
   "cell_type": "code",
   "execution_count": 163,
   "id": "a02b559b",
   "metadata": {},
   "outputs": [
    {
     "name": "stdout",
     "output_type": "stream",
     "text": [
      "Train on 1022 samples, validate on 219 samples\n",
      "Epoch 1/100\n",
      "1022/1022 [==============================] - 1s 720us/step - loss: 0.6906 - accuracy: 0.4932 - val_loss: 0.6847 - val_accuracy: 0.5068\n",
      "Epoch 2/100\n",
      "1022/1022 [==============================] - 0s 73us/step - loss: 0.6837 - accuracy: 0.4932 - val_loss: 0.6801 - val_accuracy: 0.5068\n",
      "Epoch 3/100\n",
      "1022/1022 [==============================] - 0s 78us/step - loss: 0.6789 - accuracy: 0.4932 - val_loss: 0.6764 - val_accuracy: 0.5114\n",
      "Epoch 4/100\n",
      "1022/1022 [==============================] - 0s 86us/step - loss: 0.6744 - accuracy: 0.4951 - val_loss: 0.6727 - val_accuracy: 0.5525\n",
      "Epoch 5/100\n",
      "1022/1022 [==============================] - 0s 82us/step - loss: 0.6695 - accuracy: 0.6370 - val_loss: 0.6683 - val_accuracy: 0.7032\n",
      "Epoch 6/100\n",
      "1022/1022 [==============================] - 0s 85us/step - loss: 0.6645 - accuracy: 0.7456 - val_loss: 0.6644 - val_accuracy: 0.7397\n",
      "Epoch 7/100\n",
      "1022/1022 [==============================] - 0s 73us/step - loss: 0.6597 - accuracy: 0.7583 - val_loss: 0.6603 - val_accuracy: 0.7534\n",
      "Epoch 8/100\n",
      "1022/1022 [==============================] - 0s 78us/step - loss: 0.6547 - accuracy: 0.7661 - val_loss: 0.6561 - val_accuracy: 0.7671\n",
      "Epoch 9/100\n",
      "1022/1022 [==============================] - 0s 90us/step - loss: 0.6495 - accuracy: 0.7759 - val_loss: 0.6517 - val_accuracy: 0.7626\n",
      "Epoch 10/100\n",
      "1022/1022 [==============================] - 0s 81us/step - loss: 0.6441 - accuracy: 0.7877 - val_loss: 0.6468 - val_accuracy: 0.7671\n",
      "Epoch 11/100\n",
      "1022/1022 [==============================] - 0s 70us/step - loss: 0.6382 - accuracy: 0.7828 - val_loss: 0.6416 - val_accuracy: 0.7671\n",
      "Epoch 12/100\n",
      "1022/1022 [==============================] - 0s 72us/step - loss: 0.6320 - accuracy: 0.7906 - val_loss: 0.6360 - val_accuracy: 0.7626\n",
      "Epoch 13/100\n",
      "1022/1022 [==============================] - 0s 92us/step - loss: 0.6253 - accuracy: 0.7975 - val_loss: 0.6300 - val_accuracy: 0.7626\n",
      "Epoch 14/100\n",
      "1022/1022 [==============================] - 0s 90us/step - loss: 0.6183 - accuracy: 0.7926 - val_loss: 0.6236 - val_accuracy: 0.7671\n",
      "Epoch 15/100\n",
      "1022/1022 [==============================] - 0s 89us/step - loss: 0.6106 - accuracy: 0.7955 - val_loss: 0.6169 - val_accuracy: 0.7717\n",
      "Epoch 16/100\n",
      "1022/1022 [==============================] - 0s 85us/step - loss: 0.6027 - accuracy: 0.8033 - val_loss: 0.6098 - val_accuracy: 0.7717\n",
      "Epoch 17/100\n",
      "1022/1022 [==============================] - 0s 88us/step - loss: 0.5942 - accuracy: 0.8043 - val_loss: 0.6023 - val_accuracy: 0.7717\n",
      "Epoch 18/100\n",
      "1022/1022 [==============================] - 0s 88us/step - loss: 0.5852 - accuracy: 0.8053 - val_loss: 0.5946 - val_accuracy: 0.7808\n",
      "Epoch 19/100\n",
      "1022/1022 [==============================] - 0s 83us/step - loss: 0.5760 - accuracy: 0.8151 - val_loss: 0.5867 - val_accuracy: 0.7763\n",
      "Epoch 20/100\n",
      "1022/1022 [==============================] - 0s 87us/step - loss: 0.5666 - accuracy: 0.8082 - val_loss: 0.5784 - val_accuracy: 0.7808\n",
      "Epoch 21/100\n",
      "1022/1022 [==============================] - 0s 87us/step - loss: 0.5566 - accuracy: 0.8151 - val_loss: 0.5702 - val_accuracy: 0.7808\n",
      "Epoch 22/100\n",
      "1022/1022 [==============================] - 0s 78us/step - loss: 0.5462 - accuracy: 0.8190 - val_loss: 0.5617 - val_accuracy: 0.7808\n",
      "Epoch 23/100\n",
      "1022/1022 [==============================] - 0s 96us/step - loss: 0.5358 - accuracy: 0.8180 - val_loss: 0.5529 - val_accuracy: 0.7808\n",
      "Epoch 24/100\n",
      "1022/1022 [==============================] - 0s 88us/step - loss: 0.5254 - accuracy: 0.8239 - val_loss: 0.5443 - val_accuracy: 0.7808\n",
      "Epoch 25/100\n",
      "1022/1022 [==============================] - 0s 94us/step - loss: 0.5145 - accuracy: 0.8258 - val_loss: 0.5355 - val_accuracy: 0.7854\n",
      "Epoch 26/100\n",
      "1022/1022 [==============================] - 0s 77us/step - loss: 0.5034 - accuracy: 0.8317 - val_loss: 0.5266 - val_accuracy: 0.7763\n",
      "Epoch 27/100\n",
      "1022/1022 [==============================] - 0s 88us/step - loss: 0.4924 - accuracy: 0.8297 - val_loss: 0.5187 - val_accuracy: 0.7763\n",
      "Epoch 28/100\n",
      "1022/1022 [==============================] - 0s 92us/step - loss: 0.4812 - accuracy: 0.8346 - val_loss: 0.5090 - val_accuracy: 0.7808\n",
      "Epoch 29/100\n",
      "1022/1022 [==============================] - 0s 88us/step - loss: 0.4702 - accuracy: 0.8366 - val_loss: 0.4998 - val_accuracy: 0.7945\n",
      "Epoch 30/100\n",
      "1022/1022 [==============================] - 0s 73us/step - loss: 0.4593 - accuracy: 0.8454 - val_loss: 0.4916 - val_accuracy: 0.7854\n",
      "Epoch 31/100\n",
      "1022/1022 [==============================] - 0s 78us/step - loss: 0.4478 - accuracy: 0.8532 - val_loss: 0.4829 - val_accuracy: 0.7900\n",
      "Epoch 32/100\n",
      "1022/1022 [==============================] - 0s 61us/step - loss: 0.4373 - accuracy: 0.8474 - val_loss: 0.4735 - val_accuracy: 0.8082\n",
      "Epoch 33/100\n",
      "1022/1022 [==============================] - 0s 81us/step - loss: 0.4265 - accuracy: 0.8581 - val_loss: 0.4670 - val_accuracy: 0.7991\n",
      "Epoch 34/100\n",
      "1022/1022 [==============================] - 0s 76us/step - loss: 0.4159 - accuracy: 0.8513 - val_loss: 0.4572 - val_accuracy: 0.8219\n",
      "Epoch 35/100\n",
      "1022/1022 [==============================] - 0s 68us/step - loss: 0.4063 - accuracy: 0.8689 - val_loss: 0.4519 - val_accuracy: 0.8037\n",
      "Epoch 36/100\n",
      "1022/1022 [==============================] - 0s 63us/step - loss: 0.3970 - accuracy: 0.8611 - val_loss: 0.4435 - val_accuracy: 0.8265\n",
      "Epoch 37/100\n",
      "1022/1022 [==============================] - 0s 61us/step - loss: 0.3885 - accuracy: 0.8650 - val_loss: 0.4374 - val_accuracy: 0.8219\n",
      "Epoch 38/100\n",
      "1022/1022 [==============================] - 0s 61us/step - loss: 0.3799 - accuracy: 0.8669 - val_loss: 0.4305 - val_accuracy: 0.8402\n",
      "Epoch 39/100\n",
      "1022/1022 [==============================] - 0s 74us/step - loss: 0.3729 - accuracy: 0.8679 - val_loss: 0.4272 - val_accuracy: 0.8219\n",
      "Epoch 40/100\n",
      "1022/1022 [==============================] - 0s 74us/step - loss: 0.3662 - accuracy: 0.8669 - val_loss: 0.4228 - val_accuracy: 0.8265\n",
      "Epoch 41/100\n",
      "1022/1022 [==============================] - 0s 65us/step - loss: 0.3587 - accuracy: 0.8708 - val_loss: 0.4158 - val_accuracy: 0.8356\n",
      "Epoch 42/100\n",
      "1022/1022 [==============================] - 0s 62us/step - loss: 0.3538 - accuracy: 0.8650 - val_loss: 0.4109 - val_accuracy: 0.8356\n",
      "Epoch 43/100\n",
      "1022/1022 [==============================] - 0s 82us/step - loss: 0.3483 - accuracy: 0.8650 - val_loss: 0.4093 - val_accuracy: 0.8311\n",
      "Epoch 44/100\n",
      "1022/1022 [==============================] - 0s 67us/step - loss: 0.3426 - accuracy: 0.8777 - val_loss: 0.4099 - val_accuracy: 0.8219\n",
      "Epoch 45/100\n",
      "1022/1022 [==============================] - 0s 77us/step - loss: 0.3387 - accuracy: 0.8699 - val_loss: 0.4013 - val_accuracy: 0.8356\n",
      "Epoch 46/100\n",
      "1022/1022 [==============================] - 0s 85us/step - loss: 0.3353 - accuracy: 0.8669 - val_loss: 0.3971 - val_accuracy: 0.8265\n",
      "Epoch 47/100\n",
      "1022/1022 [==============================] - 0s 76us/step - loss: 0.3309 - accuracy: 0.8728 - val_loss: 0.4003 - val_accuracy: 0.8219\n",
      "Epoch 48/100\n",
      "1022/1022 [==============================] - 0s 68us/step - loss: 0.3280 - accuracy: 0.8679 - val_loss: 0.3933 - val_accuracy: 0.8356\n",
      "Epoch 49/100\n",
      "1022/1022 [==============================] - 0s 60us/step - loss: 0.3242 - accuracy: 0.8718 - val_loss: 0.3906 - val_accuracy: 0.8356\n",
      "Epoch 50/100\n",
      "1022/1022 [==============================] - 0s 61us/step - loss: 0.3216 - accuracy: 0.8757 - val_loss: 0.3926 - val_accuracy: 0.8265\n",
      "Epoch 51/100\n",
      "1022/1022 [==============================] - 0s 69us/step - loss: 0.3184 - accuracy: 0.8767 - val_loss: 0.3904 - val_accuracy: 0.8311\n",
      "Epoch 52/100\n",
      "1022/1022 [==============================] - 0s 73us/step - loss: 0.3167 - accuracy: 0.8757 - val_loss: 0.3860 - val_accuracy: 0.8311\n",
      "Epoch 53/100\n",
      "1022/1022 [==============================] - 0s 62us/step - loss: 0.3138 - accuracy: 0.8777 - val_loss: 0.3817 - val_accuracy: 0.8311\n",
      "Epoch 54/100\n",
      "1022/1022 [==============================] - 0s 62us/step - loss: 0.3117 - accuracy: 0.8757 - val_loss: 0.3801 - val_accuracy: 0.8265\n",
      "Epoch 55/100\n",
      "1022/1022 [==============================] - 0s 74us/step - loss: 0.3092 - accuracy: 0.8806 - val_loss: 0.3853 - val_accuracy: 0.8265\n",
      "Epoch 56/100\n"
     ]
    },
    {
     "name": "stdout",
     "output_type": "stream",
     "text": [
      "1022/1022 [==============================] - 0s 64us/step - loss: 0.3070 - accuracy: 0.8796 - val_loss: 0.3924 - val_accuracy: 0.8082\n",
      "Epoch 57/100\n",
      "1022/1022 [==============================] - 0s 57us/step - loss: 0.3058 - accuracy: 0.8855 - val_loss: 0.3784 - val_accuracy: 0.8311\n",
      "Epoch 58/100\n",
      "1022/1022 [==============================] - 0s 61us/step - loss: 0.3040 - accuracy: 0.8836 - val_loss: 0.3739 - val_accuracy: 0.8311\n",
      "Epoch 59/100\n",
      "1022/1022 [==============================] - 0s 58us/step - loss: 0.3023 - accuracy: 0.8777 - val_loss: 0.3719 - val_accuracy: 0.8219\n",
      "Epoch 60/100\n",
      "1022/1022 [==============================] - 0s 62us/step - loss: 0.3006 - accuracy: 0.8845 - val_loss: 0.3750 - val_accuracy: 0.8265\n",
      "Epoch 61/100\n",
      "1022/1022 [==============================] - 0s 58us/step - loss: 0.2999 - accuracy: 0.8836 - val_loss: 0.3761 - val_accuracy: 0.8265\n",
      "Epoch 62/100\n",
      "1022/1022 [==============================] - 0s 56us/step - loss: 0.2975 - accuracy: 0.8836 - val_loss: 0.3730 - val_accuracy: 0.8219\n",
      "Epoch 63/100\n",
      "1022/1022 [==============================] - 0s 57us/step - loss: 0.2968 - accuracy: 0.8855 - val_loss: 0.3678 - val_accuracy: 0.8265\n",
      "Epoch 64/100\n",
      "1022/1022 [==============================] - 0s 78us/step - loss: 0.2947 - accuracy: 0.8894 - val_loss: 0.3682 - val_accuracy: 0.8219\n",
      "Epoch 65/100\n",
      "1022/1022 [==============================] - 0s 64us/step - loss: 0.2929 - accuracy: 0.8875 - val_loss: 0.3644 - val_accuracy: 0.8356\n",
      "Epoch 66/100\n",
      "1022/1022 [==============================] - 0s 84us/step - loss: 0.2932 - accuracy: 0.8806 - val_loss: 0.3650 - val_accuracy: 0.8265\n",
      "Epoch 67/100\n",
      "1022/1022 [==============================] - 0s 78us/step - loss: 0.2927 - accuracy: 0.8865 - val_loss: 0.3622 - val_accuracy: 0.8265\n",
      "Epoch 68/100\n",
      "1022/1022 [==============================] - 0s 83us/step - loss: 0.2912 - accuracy: 0.8836 - val_loss: 0.3623 - val_accuracy: 0.8265\n",
      "Epoch 69/100\n",
      "1022/1022 [==============================] - 0s 68us/step - loss: 0.2892 - accuracy: 0.8855 - val_loss: 0.3598 - val_accuracy: 0.8265\n",
      "Epoch 70/100\n",
      "1022/1022 [==============================] - 0s 62us/step - loss: 0.2892 - accuracy: 0.8894 - val_loss: 0.3641 - val_accuracy: 0.8128\n",
      "Epoch 71/100\n",
      "1022/1022 [==============================] - 0s 58us/step - loss: 0.2880 - accuracy: 0.8865 - val_loss: 0.3596 - val_accuracy: 0.8265\n",
      "Epoch 72/100\n",
      "1022/1022 [==============================] - 0s 57us/step - loss: 0.2862 - accuracy: 0.8894 - val_loss: 0.3562 - val_accuracy: 0.8265\n",
      "Epoch 73/100\n",
      "1022/1022 [==============================] - 0s 65us/step - loss: 0.2863 - accuracy: 0.8914 - val_loss: 0.3551 - val_accuracy: 0.8265\n",
      "Epoch 74/100\n",
      "1022/1022 [==============================] - 0s 85us/step - loss: 0.2851 - accuracy: 0.8914 - val_loss: 0.3620 - val_accuracy: 0.8174\n",
      "Epoch 75/100\n",
      "1022/1022 [==============================] - 0s 60us/step - loss: 0.2848 - accuracy: 0.8885 - val_loss: 0.3532 - val_accuracy: 0.8265\n",
      "Epoch 76/100\n",
      "1022/1022 [==============================] - 0s 61us/step - loss: 0.2841 - accuracy: 0.8875 - val_loss: 0.3531 - val_accuracy: 0.8265\n",
      "Epoch 77/100\n",
      "1022/1022 [==============================] - 0s 65us/step - loss: 0.2813 - accuracy: 0.8914 - val_loss: 0.3598 - val_accuracy: 0.8174\n",
      "Epoch 78/100\n",
      "1022/1022 [==============================] - 0s 60us/step - loss: 0.2813 - accuracy: 0.8904 - val_loss: 0.3504 - val_accuracy: 0.8219\n",
      "Epoch 79/100\n",
      "1022/1022 [==============================] - 0s 63us/step - loss: 0.2807 - accuracy: 0.8914 - val_loss: 0.3507 - val_accuracy: 0.8265\n",
      "Epoch 80/100\n",
      "1022/1022 [==============================] - 0s 78us/step - loss: 0.2798 - accuracy: 0.8963 - val_loss: 0.3496 - val_accuracy: 0.8219\n",
      "Epoch 81/100\n",
      "1022/1022 [==============================] - 0s 85us/step - loss: 0.2782 - accuracy: 0.8924 - val_loss: 0.3484 - val_accuracy: 0.8265\n",
      "Epoch 82/100\n",
      "1022/1022 [==============================] - 0s 84us/step - loss: 0.2777 - accuracy: 0.8953 - val_loss: 0.3468 - val_accuracy: 0.8265\n",
      "Epoch 83/100\n",
      "1022/1022 [==============================] - 0s 74us/step - loss: 0.2773 - accuracy: 0.8933 - val_loss: 0.3509 - val_accuracy: 0.8219\n",
      "Epoch 84/100\n",
      "1022/1022 [==============================] - 0s 85us/step - loss: 0.2764 - accuracy: 0.8904 - val_loss: 0.3448 - val_accuracy: 0.8219\n",
      "Epoch 85/100\n",
      "1022/1022 [==============================] - 0s 88us/step - loss: 0.2759 - accuracy: 0.8914 - val_loss: 0.3468 - val_accuracy: 0.8265\n",
      "Epoch 86/100\n",
      "1022/1022 [==============================] - 0s 63us/step - loss: 0.2745 - accuracy: 0.8992 - val_loss: 0.3469 - val_accuracy: 0.8265\n",
      "Epoch 87/100\n",
      "1022/1022 [==============================] - 0s 58us/step - loss: 0.2740 - accuracy: 0.8943 - val_loss: 0.3451 - val_accuracy: 0.8265\n",
      "Epoch 88/100\n",
      "1022/1022 [==============================] - 0s 61us/step - loss: 0.2724 - accuracy: 0.8914 - val_loss: 0.3406 - val_accuracy: 0.8311\n",
      "Epoch 89/100\n",
      "1022/1022 [==============================] - 0s 59us/step - loss: 0.2719 - accuracy: 0.8943 - val_loss: 0.3499 - val_accuracy: 0.8128\n",
      "Epoch 90/100\n",
      "1022/1022 [==============================] - 0s 61us/step - loss: 0.2724 - accuracy: 0.8973 - val_loss: 0.3412 - val_accuracy: 0.8265\n",
      "Epoch 91/100\n",
      "1022/1022 [==============================] - 0s 58us/step - loss: 0.2710 - accuracy: 0.9051 - val_loss: 0.3380 - val_accuracy: 0.8402\n",
      "Epoch 92/100\n",
      "1022/1022 [==============================] - 0s 72us/step - loss: 0.2714 - accuracy: 0.8982 - val_loss: 0.3374 - val_accuracy: 0.8356\n",
      "Epoch 93/100\n",
      "1022/1022 [==============================] - 0s 86us/step - loss: 0.2706 - accuracy: 0.8963 - val_loss: 0.3421 - val_accuracy: 0.8311\n",
      "Epoch 94/100\n",
      "1022/1022 [==============================] - 0s 86us/step - loss: 0.2695 - accuracy: 0.8963 - val_loss: 0.3435 - val_accuracy: 0.8174\n",
      "Epoch 95/100\n",
      "1022/1022 [==============================] - 0s 87us/step - loss: 0.2671 - accuracy: 0.9002 - val_loss: 0.3354 - val_accuracy: 0.8356\n",
      "Epoch 96/100\n",
      "1022/1022 [==============================] - 0s 88us/step - loss: 0.2668 - accuracy: 0.8933 - val_loss: 0.3572 - val_accuracy: 0.7991\n",
      "Epoch 97/100\n",
      "1022/1022 [==============================] - 0s 112us/step - loss: 0.2692 - accuracy: 0.9022 - val_loss: 0.3437 - val_accuracy: 0.8219\n",
      "Epoch 98/100\n",
      "1022/1022 [==============================] - 0s 136us/step - loss: 0.2669 - accuracy: 0.8992 - val_loss: 0.3360 - val_accuracy: 0.8265\n",
      "Epoch 99/100\n",
      "1022/1022 [==============================] - 0s 135us/step - loss: 0.2659 - accuracy: 0.8982 - val_loss: 0.3323 - val_accuracy: 0.8356\n",
      "Epoch 100/100\n",
      "1022/1022 [==============================] - 0s 119us/step - loss: 0.2658 - accuracy: 0.8982 - val_loss: 0.3313 - val_accuracy: 0.8356\n"
     ]
    }
   ],
   "source": [
    "hist = model.fit(X_train, Y_train, \n",
    "                batch_size=32, epochs=100,\n",
    "                validation_data=(X_val, Y_val))"
   ]
  },
  {
   "cell_type": "code",
   "execution_count": 164,
   "id": "98fa7c38",
   "metadata": {},
   "outputs": [
    {
     "name": "stdout",
     "output_type": "stream",
     "text": [
      "219/219 [==============================] - 0s 61us/step\n"
     ]
    },
    {
     "data": {
      "text/plain": [
       "[0.24652084572130142, 0.913241982460022]"
      ]
     },
     "execution_count": 164,
     "metadata": {},
     "output_type": "execute_result"
    }
   ],
   "source": [
    "model.evaluate(X_test, Y_test)"
   ]
  },
  {
   "cell_type": "code",
   "execution_count": 165,
   "id": "36568555",
   "metadata": {},
   "outputs": [
    {
     "data": {
      "text/plain": [
       "<function matplotlib.pyplot.show(close=None, block=None)>"
      ]
     },
     "execution_count": 165,
     "metadata": {},
     "output_type": "execute_result"
    },
    {
     "data": {
      "image/png": "[encoded data removed]",
      "text/plain": [
       "<Figure size 432x288 with 1 Axes>"
      ]
     },
     "metadata": {
      "needs_background": "light"
     },
     "output_type": "display_data"
    }
   ],
   "source": [
    "import matplotlib.pyplot as plt\n",
    "plt.plot(hist.history['loss'])\n",
    "plt.plot(hist.history['val_loss'])\n",
    "plt.title('Model Loss')\n",
    "plt.ylabel('Loss')\n",
    "plt.xlabel('Epoch')\n",
    "plt.legend(['Train', 'Val'], loc='upper right')\n",
    "plt.show"
   ]
  },
  {
   "cell_type": "code",
   "execution_count": 166,
   "id": "aaff0ac6",
   "metadata": {},
   "outputs": [
    {
     "data": {
      "text/plain": [
       "<function matplotlib.pyplot.show(close=None, block=None)>"
      ]
     },
     "execution_count": 166,
     "metadata": {},
     "output_type": "execute_result"
    },
    {
     "data": {
      "image/png": "[encoded data removed]",
      "text/plain": [
       "<Figure size 432x288 with 1 Axes>"
      ]
     },
     "metadata": {
      "needs_background": "light"
     },
     "output_type": "display_data"
    }
   ],
   "source": [
    "import matplotlib.pyplot as plt\n",
    "plt.plot(hist.history['accuracy'])\n",
    "plt.plot(hist.history['val_accuracy'])\n",
    "plt.title('Model Accuracy')\n",
    "plt.ylabel('Accuracy')\n",
    "plt.xlabel('Epochs')\n",
    "plt.legend(['Train', 'Val'], loc='lower right')\n",
    "plt.show"
   ]
  }
 ],
 "metadata": {
  "kernelspec": {
   "display_name": "Python 3 (ipykernel)",
   "language": "python",
   "name": "python3"
  },
  "language_info": {
   "codemirror_mode": {
    "name": "ipython",
    "version": 3
   },
   "file_extension": ".py",
   "mimetype": "text/x-python",
   "name": "python",
   "nbconvert_exporter": "python",
   "pygments_lexer": "ipython3",
   "version": "3.7.11"
  }
 },
 "nbformat": 4,
 "nbformat_minor": 5
}
